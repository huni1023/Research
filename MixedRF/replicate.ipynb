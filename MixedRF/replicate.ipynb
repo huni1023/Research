{
 "cells": [
  {
   "cell_type": "code",
   "execution_count": 1,
   "metadata": {},
   "outputs": [
    {
     "name": "stderr",
     "output_type": "stream",
     "text": [
      "/Users/huni/.pyenv/versions/3.8.2/envs/{huni}/lib/python3.8/site-packages/pandas/compat/__init__.py:97: UserWarning: Could not import the lzma module. Your installed Python is incomplete. Attempting to use lzma compression will result in a RuntimeError.\n",
      "  warnings.warn(msg)\n"
     ]
    },
    {
     "name": "stdout",
     "output_type": "stream",
     "text": [
      ">> Current OS:  darwin\n",
      ">> Current WD:  /Users/huni/Proj/Research/MixedRF\n"
     ]
    }
   ],
   "source": [
    "import os\n",
    "import copy\n",
    "import json\n",
    "import numpy as np\n",
    "import pandas as pd\n",
    "from datetime import datetime\n",
    "from tqdm import tqdm\n",
    "from sys import platform\n",
    "\n",
    "import warnings\n",
    "warnings.filterwarnings('ignore')\n",
    "\n",
    "# unicode minus를 사용하지 않기 위한 설정 (minus 깨짐현상 방지)\n",
    "import matplotlib.pyplot as plt\n",
    "import matplotlib.ticker as ticker\n",
    "plt.rcParams['axes.unicode_minus'] = False\n",
    "plt.rcParams[\"figure.autolayout\"] = True\n",
    "\n",
    "# 설치된 폰트 출력\n",
    "import matplotlib.font_manager as fm\n",
    "font_list = [font.name for font in fm.fontManager.ttflist]\n",
    "if 'darwin' in platform:\n",
    "    plt.rcParams['font.family'] = 'Malgun Gothic'\n",
    "else:\n",
    "    plt.rcParams['font.family'] = 'Malgun Gothic'\n",
    "\n",
    "\n",
    "BASE_DIR = os.getcwd()\n",
    "print('>> Current OS: ', platform)\n",
    "print('>> Current WD: ', BASE_DIR)"
   ]
  },
  {
   "cell_type": "code",
   "execution_count": 4,
   "metadata": {},
   "outputs": [
    {
     "name": "stdout",
     "output_type": "stream",
     "text": [
      ">>>>> Init: load raw data\n",
      ">> Stu data set (612004, 1119)\n",
      ">> Sch data set (21903, 197)\n",
      ">> Tch data set (107367, 351)\n"
     ]
    }
   ],
   "source": [
    "class Load:\n",
    "    def __init__(self, stuFolder, schFolder, tchFolder, codeBook,\n",
    "                onlyCodeBook, ):\n",
    "        if 'darwin' in platform:\n",
    "            self.BASE_DIR = '/Users/huni/Dropbox/[3]Project/[혼합효과 랜덤포레스트_2022]'\n",
    "        else:\n",
    "            self.BASE_DIR = r'C:\\Users\\jhun1\\Dropbox\\[3]Project\\[혼합효과 랜덤포레스트_2022]'\n",
    "        rawData_Folder = 'PISA2018'\n",
    "        codebook_Folder = 'drive-download-20220816T053902Z-001'\n",
    "\n",
    "\n",
    "        if onlyCodeBook == False:\n",
    "            print('>>>>> Init: load raw data')\n",
    "            stuFile = [FILE for FILE in os.listdir(os.path.join(self.BASE_DIR, rawData_Folder, stuFolder)) if FILE[-4:] == '.sav'][0]\n",
    "            schFile = [FILE for FILE in os.listdir(os.path.join(self.BASE_DIR, rawData_Folder, schFolder)) if FILE[-4:] == '.sav'][0]\n",
    "            tchFile = [FILE for FILE in os.listdir(os.path.join(self.BASE_DIR, rawData_Folder, tchFolder)) if FILE[-4:] == '.sav'][0]\n",
    "\n",
    "            self.rawStu = pd.read_spss(os.path.join(self.BASE_DIR, rawData_Folder, stuFolder, stuFile))\n",
    "            self.rawSCH = pd.read_spss(os.path.join(self.BASE_DIR, rawData_Folder, schFolder, schFile))\n",
    "            self.rawTCH = pd.read_spss(os.path.join(self.BASE_DIR, rawData_Folder, tchFolder, tchFile))\n",
    "            self.dataLS = [self.rawStu, self.rawSCH, self.rawTCH]\n",
    "\n",
    "            # desciptive\n",
    "            print('>> Stu data set', self.rawStu.shape)\n",
    "            print('>> Sch data set', self.rawSCH.shape)\n",
    "            print('>> Tch data set', self.rawTCH.shape)\n",
    "        \n",
    "        else:\n",
    "            print('>> Only Codebook will be loaded')\n",
    "            pass\n",
    "        \n",
    "        self.cb = pd.read_excel(os.path.join(self.BASE_DIR, codebook_Folder, codeBook))\n",
    "\n",
    "    def defaultCleaner(self):\n",
    "        print('\\n\\n>>>> Cleaning: default nation and variable')\n",
    "        \n",
    "        ### dictionary by nation\n",
    "        def cleaningNational(dataLS, Hongkong = 'Hong Kong'):\n",
    "            nationalData = {'HK': []}\n",
    "\n",
    "            for nation_name, code in zip(nationalData.keys(), [Hongkong]):\n",
    "                print(f'\\n>> slicing: {nation_name}')\n",
    "                for data in dataLS:\n",
    "                    # print(data.head(5))\n",
    "                    temp2 = data[data['CNTRYID'] == code]\n",
    "                \n",
    "                    nationalData[nation_name].append(temp2)\n",
    "                    print('>> sliced shape: ', temp2.shape)\n",
    "            \n",
    "            return nationalData\n",
    "\n",
    "        ### slicing only codebook independent var\n",
    "        def cleaningVariable(data, codeBook):\n",
    "            pass\n",
    "\n",
    "        pass\n",
    "\n",
    "LOAD_ONLY_CODEBOOK = False\n",
    "\n",
    "Loader = Load(stuFolder=\"STU\", schFolder='SCH', tchFolder='TCH',\n",
    "                onlyCodeBook = LOAD_ONLY_CODEBOOK,\n",
    "                codeBook='PISA2018_CODEBOOK (변수선택-공유).xlsx'\n",
    "                )\n",
    "\n",
    "# if LOAD_ONLY_CODEBOOK == False:\n",
    "#     Loader.defaultCleaner()"
   ]
  },
  {
   "cell_type": "code",
   "execution_count": 10,
   "metadata": {},
   "outputs": [],
   "source": [
    "# toSave.to_excel(os.path.join('/Users/huni/Dropbox/[3]Project/[혼합효과 랜덤포레스트_2022]/', 'temp(추석)', 'cleanedData(HK).xlsx'))"
   ]
  },
  {
   "cell_type": "code",
   "execution_count": null,
   "metadata": {},
   "outputs": [],
   "source": [
    "# SPSS 26.0의 MCMC 사용해서 결측치 대체함 \n",
    "# https://www.statisticshowto.com/missing-values-spss/\n",
    "\n",
    "\n",
    "# reading achivement top 25%를 resilient로 했다는데 한문항만 썼는지, 다른 문항들 전체를 썼는지는 확인 필요함\n"
   ]
  }
 ],
 "metadata": {
  "kernelspec": {
   "display_name": "Python 3.8.2 64-bit ('{huni}')",
   "language": "python",
   "name": "python3"
  },
  "language_info": {
   "codemirror_mode": {
    "name": "ipython",
    "version": 3
   },
   "file_extension": ".py",
   "mimetype": "text/x-python",
   "name": "python",
   "nbconvert_exporter": "python",
   "pygments_lexer": "ipython3",
   "version": "3.8.2"
  },
  "orig_nbformat": 4,
  "vscode": {
   "interpreter": {
    "hash": "6759f8f029089d11794c1cc9cf7a24be0c22d8786d9aebb0d861f27dfe2c888b"
   }
  }
 },
 "nbformat": 4,
 "nbformat_minor": 2
}
