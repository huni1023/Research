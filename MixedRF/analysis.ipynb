{
 "cells": [
  {
   "cell_type": "markdown",
   "metadata": {},
   "source": [
    "# 학업탄력성 영향요인 연구\n",
    "@author: sjh\n",
    "\n",
    "## 1. 패키지 및 데이터 로드"
   ]
  },
  {
   "cell_type": "code",
   "execution_count": 7,
   "metadata": {},
   "outputs": [
    {
     "name": "stdout",
     "output_type": "stream",
     "text": [
      "Collecting pyreadstat\n",
      "  Downloading pyreadstat-1.1.9-cp38-cp38-win_amd64.whl (2.4 MB)\n",
      "Requirement already satisfied: pandas>=1.2.0 in c:\\users\\jhun1\\anaconda3\\envs\\snuro\\lib\\site-packages (from pyreadstat) (1.4.1)\n",
      "Requirement already satisfied: pytz>=2020.1 in c:\\users\\jhun1\\anaconda3\\envs\\snuro\\lib\\site-packages (from pandas>=1.2.0->pyreadstat) (2021.3)\n",
      "Requirement already satisfied: python-dateutil>=2.8.1 in c:\\users\\jhun1\\anaconda3\\envs\\snuro\\lib\\site-packages (from pandas>=1.2.0->pyreadstat) (2.8.2)\n",
      "Requirement already satisfied: numpy>=1.18.5 in c:\\users\\jhun1\\anaconda3\\envs\\snuro\\lib\\site-packages (from pandas>=1.2.0->pyreadstat) (1.21.5)\n",
      "Requirement already satisfied: six>=1.5 in c:\\users\\jhun1\\anaconda3\\envs\\snuro\\lib\\site-packages (from python-dateutil>=2.8.1->pandas>=1.2.0->pyreadstat) (1.16.0)\n",
      "Installing collected packages: pyreadstat\n",
      "Successfully installed pyreadstat-1.1.9\n",
      ">> Current OS:  win32\n",
      ">> Current WD:  c:\\Users\\jhun1\\Proj\\Research\\MixedRF\n"
     ]
    }
   ],
   "source": [
    "import os\n",
    "import numpy as np\n",
    "import pandas as pd\n",
    "from datetime import datetime\n",
    "from tqdm import tqdm\n",
    "from sys import platform\n",
    "\n",
    "import warnings\n",
    "warnings.filterwarnings('ignore')\n",
    "\n",
    "# unicode minus를 사용하지 않기 위한 설정 (minus 깨짐현상 방지)\n",
    "import matplotlib.pyplot as plt\n",
    "import matplotlib.ticker as ticker\n",
    "plt.rcParams['axes.unicode_minus'] = False\n",
    "plt.rcParams[\"figure.autolayout\"] = True\n",
    "\n",
    "# 설치된 폰트 출력\n",
    "import matplotlib.font_manager as fm\n",
    "font_list = [font.name for font in fm.fontManager.ttflist]\n",
    "if 'darwin' in platform:\n",
    "    plt.rcParams['font.family'] = 'Malgun Gothic'\n",
    "else:\n",
    "    plt.rcParams['font.family'] = 'Malgun Gothic'\n",
    "\n",
    "# mixed effect randomforest\n",
    "# !pip install pyreadstat\n",
    "import merf\n",
    "\n",
    "BASE_DIR = os.getcwd()\n",
    "print('>> Current OS: ', platform)\n",
    "print('>> Current WD: ', BASE_DIR)"
   ]
  },
  {
   "cell_type": "code",
   "execution_count": 9,
   "metadata": {},
   "outputs": [
    {
     "ename": "KeyboardInterrupt",
     "evalue": "",
     "output_type": "error",
     "traceback": [
      "\u001b[1;31m---------------------------------------------------------------------------\u001b[0m",
      "\u001b[1;31mKeyboardInterrupt\u001b[0m                         Traceback (most recent call last)",
      "\u001b[1;32mc:\\Users\\jhun1\\Proj\\Research\\MixedRF\\analysis.ipynb Cell 3\u001b[0m in \u001b[0;36m<cell line: 5>\u001b[1;34m()\u001b[0m\n\u001b[0;32m      <a href='vscode-notebook-cell:/c%3A/Users/jhun1/Proj/Research/MixedRF/analysis.ipynb#ch0000002?line=1'>2</a>\u001b[0m     \u001b[39mdef\u001b[39;00m \u001b[39m__init__\u001b[39m(\u001b[39mself\u001b[39m, filePath):\n\u001b[0;32m      <a href='vscode-notebook-cell:/c%3A/Users/jhun1/Proj/Research/MixedRF/analysis.ipynb#ch0000002?line=2'>3</a>\u001b[0m         \u001b[39mself\u001b[39m\u001b[39m.\u001b[39mrawDf \u001b[39m=\u001b[39m pd\u001b[39m.\u001b[39mread_spss(os\u001b[39m.\u001b[39mpath\u001b[39m.\u001b[39mjoin(filePath))\n\u001b[1;32m----> <a href='vscode-notebook-cell:/c%3A/Users/jhun1/Proj/Research/MixedRF/analysis.ipynb#ch0000002?line=4'>5</a>\u001b[0m data \u001b[39m=\u001b[39m Load(\u001b[39mr\u001b[39;49m\u001b[39m\"\u001b[39;49m\u001b[39mC:\u001b[39;49m\u001b[39m\\\u001b[39;49m\u001b[39mUsers\u001b[39;49m\u001b[39m\\\u001b[39;49m\u001b[39mjhun1\u001b[39;49m\u001b[39m\\\u001b[39;49m\u001b[39mDropbox\u001b[39;49m\u001b[39m\\\u001b[39;49m\u001b[39m[3]Project\u001b[39;49m\u001b[39m\\\u001b[39;49m\u001b[39m[혼합효과 랜덤포레스트_2022]\u001b[39;49m\u001b[39m\\\u001b[39;49m\u001b[39mPISA2018\u001b[39;49m\u001b[39m\\\u001b[39;49m\u001b[39mSTU\u001b[39;49m\u001b[39m\\\u001b[39;49m\u001b[39mCY07_MSU_STU_QQQ.sav\u001b[39;49m\u001b[39m\"\u001b[39;49m)\n",
      "\u001b[1;32mc:\\Users\\jhun1\\Proj\\Research\\MixedRF\\analysis.ipynb Cell 3\u001b[0m in \u001b[0;36mLoad.__init__\u001b[1;34m(self, filePath)\u001b[0m\n\u001b[0;32m      <a href='vscode-notebook-cell:/c%3A/Users/jhun1/Proj/Research/MixedRF/analysis.ipynb#ch0000002?line=1'>2</a>\u001b[0m \u001b[39mdef\u001b[39;00m \u001b[39m__init__\u001b[39m(\u001b[39mself\u001b[39m, filePath):\n\u001b[1;32m----> <a href='vscode-notebook-cell:/c%3A/Users/jhun1/Proj/Research/MixedRF/analysis.ipynb#ch0000002?line=2'>3</a>\u001b[0m     \u001b[39mself\u001b[39m\u001b[39m.\u001b[39mrawDf \u001b[39m=\u001b[39m pd\u001b[39m.\u001b[39;49mread_spss(os\u001b[39m.\u001b[39;49mpath\u001b[39m.\u001b[39;49mjoin(filePath))\n",
      "File \u001b[1;32mc:\\Users\\jhun1\\anaconda3\\envs\\SNURO\\lib\\site-packages\\pandas\\io\\spss.py:46\u001b[0m, in \u001b[0;36mread_spss\u001b[1;34m(path, usecols, convert_categoricals)\u001b[0m\n\u001b[0;32m     43\u001b[0m     \u001b[39melse\u001b[39;00m:\n\u001b[0;32m     44\u001b[0m         usecols \u001b[39m=\u001b[39m \u001b[39mlist\u001b[39m(usecols)  \u001b[39m# pyreadstat requires a list\u001b[39;00m\n\u001b[1;32m---> 46\u001b[0m df, _ \u001b[39m=\u001b[39m pyreadstat\u001b[39m.\u001b[39;49mread_sav(\n\u001b[0;32m     47\u001b[0m     stringify_path(path), usecols\u001b[39m=\u001b[39;49musecols, apply_value_formats\u001b[39m=\u001b[39;49mconvert_categoricals\n\u001b[0;32m     48\u001b[0m )\n\u001b[0;32m     49\u001b[0m \u001b[39mreturn\u001b[39;00m df\n",
      "File \u001b[1;32mpyreadstat\\pyreadstat.pyx:369\u001b[0m, in \u001b[0;36mpyreadstat.pyreadstat.read_sav\u001b[1;34m()\u001b[0m\n",
      "File \u001b[1;32mpyreadstat\\pyreadstat.pyx:538\u001b[0m, in \u001b[0;36mpyreadstat.pyreadstat.set_value_labels\u001b[1;34m()\u001b[0m\n",
      "File \u001b[1;32mc:\\Users\\jhun1\\anaconda3\\envs\\SNURO\\lib\\site-packages\\pandas\\core\\frame.py:3655\u001b[0m, in \u001b[0;36mDataFrame.__setitem__\u001b[1;34m(self, key, value)\u001b[0m\n\u001b[0;32m   3652\u001b[0m     \u001b[39mself\u001b[39m\u001b[39m.\u001b[39m_setitem_array([key], value)\n\u001b[0;32m   3653\u001b[0m \u001b[39melse\u001b[39;00m:\n\u001b[0;32m   3654\u001b[0m     \u001b[39m# set column\u001b[39;00m\n\u001b[1;32m-> 3655\u001b[0m     \u001b[39mself\u001b[39;49m\u001b[39m.\u001b[39;49m_set_item(key, value)\n",
      "File \u001b[1;32mc:\\Users\\jhun1\\anaconda3\\envs\\SNURO\\lib\\site-packages\\pandas\\core\\frame.py:3845\u001b[0m, in \u001b[0;36mDataFrame._set_item\u001b[1;34m(self, key, value)\u001b[0m\n\u001b[0;32m   3842\u001b[0m         \u001b[39mif\u001b[39;00m \u001b[39misinstance\u001b[39m(existing_piece, DataFrame):\n\u001b[0;32m   3843\u001b[0m             value \u001b[39m=\u001b[39m np\u001b[39m.\u001b[39mtile(value, (\u001b[39mlen\u001b[39m(existing_piece\u001b[39m.\u001b[39mcolumns), \u001b[39m1\u001b[39m))\u001b[39m.\u001b[39mT\n\u001b[1;32m-> 3845\u001b[0m \u001b[39mself\u001b[39;49m\u001b[39m.\u001b[39;49m_set_item_mgr(key, value)\n",
      "File \u001b[1;32mc:\\Users\\jhun1\\anaconda3\\envs\\SNURO\\lib\\site-packages\\pandas\\core\\frame.py:3804\u001b[0m, in \u001b[0;36mDataFrame._set_item_mgr\u001b[1;34m(self, key, value)\u001b[0m\n\u001b[0;32m   3802\u001b[0m     \u001b[39mself\u001b[39m\u001b[39m.\u001b[39m_mgr\u001b[39m.\u001b[39minsert(\u001b[39mlen\u001b[39m(\u001b[39mself\u001b[39m\u001b[39m.\u001b[39m_info_axis), key, value)\n\u001b[0;32m   3803\u001b[0m \u001b[39melse\u001b[39;00m:\n\u001b[1;32m-> 3804\u001b[0m     \u001b[39mself\u001b[39;49m\u001b[39m.\u001b[39;49m_iset_item_mgr(loc, value)\n\u001b[0;32m   3806\u001b[0m \u001b[39m# check if we are modifying a copy\u001b[39;00m\n\u001b[0;32m   3807\u001b[0m \u001b[39m# try to set first as we want an invalid\u001b[39;00m\n\u001b[0;32m   3808\u001b[0m \u001b[39m# value exception to occur first\u001b[39;00m\n\u001b[0;32m   3809\u001b[0m \u001b[39mif\u001b[39;00m \u001b[39mlen\u001b[39m(\u001b[39mself\u001b[39m):\n",
      "File \u001b[1;32mc:\\Users\\jhun1\\anaconda3\\envs\\SNURO\\lib\\site-packages\\pandas\\core\\frame.py:3794\u001b[0m, in \u001b[0;36mDataFrame._iset_item_mgr\u001b[1;34m(self, loc, value, inplace)\u001b[0m\n\u001b[0;32m   3790\u001b[0m \u001b[39mdef\u001b[39;00m \u001b[39m_iset_item_mgr\u001b[39m(\n\u001b[0;32m   3791\u001b[0m     \u001b[39mself\u001b[39m, loc: \u001b[39mint\u001b[39m \u001b[39m|\u001b[39m \u001b[39mslice\u001b[39m \u001b[39m|\u001b[39m np\u001b[39m.\u001b[39mndarray, value, inplace: \u001b[39mbool\u001b[39m \u001b[39m=\u001b[39m \u001b[39mFalse\u001b[39;00m\n\u001b[0;32m   3792\u001b[0m ) \u001b[39m-\u001b[39m\u001b[39m>\u001b[39m \u001b[39mNone\u001b[39;00m:\n\u001b[0;32m   3793\u001b[0m     \u001b[39m# when called from _set_item_mgr loc can be anything returned from get_loc\u001b[39;00m\n\u001b[1;32m-> 3794\u001b[0m     \u001b[39mself\u001b[39;49m\u001b[39m.\u001b[39;49m_mgr\u001b[39m.\u001b[39;49miset(loc, value, inplace\u001b[39m=\u001b[39;49minplace)\n\u001b[0;32m   3795\u001b[0m     \u001b[39mself\u001b[39m\u001b[39m.\u001b[39m_clear_item_cache()\n",
      "File \u001b[1;32mc:\\Users\\jhun1\\anaconda3\\envs\\SNURO\\lib\\site-packages\\pandas\\core\\internals\\managers.py:1141\u001b[0m, in \u001b[0;36mBlockManager.iset\u001b[1;34m(self, loc, value, inplace)\u001b[0m\n\u001b[0;32m   1139\u001b[0m             removed_blknos\u001b[39m.\u001b[39mappend(blkno_l)\n\u001b[0;32m   1140\u001b[0m         \u001b[39melse\u001b[39;00m:\n\u001b[1;32m-> 1141\u001b[0m             blk\u001b[39m.\u001b[39;49mdelete(blk_locs)\n\u001b[0;32m   1142\u001b[0m             \u001b[39mself\u001b[39m\u001b[39m.\u001b[39m_blklocs[blk\u001b[39m.\u001b[39mmgr_locs\u001b[39m.\u001b[39mindexer] \u001b[39m=\u001b[39m np\u001b[39m.\u001b[39marange(\u001b[39mlen\u001b[39m(blk))\n\u001b[0;32m   1144\u001b[0m \u001b[39mif\u001b[39;00m \u001b[39mlen\u001b[39m(removed_blknos):\n\u001b[0;32m   1145\u001b[0m     \u001b[39m# Remove blocks & update blknos accordingly\u001b[39;00m\n",
      "File \u001b[1;32mc:\\Users\\jhun1\\anaconda3\\envs\\SNURO\\lib\\site-packages\\pandas\\core\\internals\\blocks.py:388\u001b[0m, in \u001b[0;36mBlock.delete\u001b[1;34m(self, loc)\u001b[0m\n\u001b[0;32m    379\u001b[0m \u001b[39m\"\"\"\u001b[39;00m\n\u001b[0;32m    380\u001b[0m \u001b[39mDelete given loc(-s) from block in-place.\u001b[39;00m\n\u001b[0;32m    381\u001b[0m \u001b[39m\"\"\"\u001b[39;00m\n\u001b[0;32m    382\u001b[0m \u001b[39m# Argument 1 to \"delete\" has incompatible type \"Union[ndarray[Any, Any],\u001b[39;00m\n\u001b[0;32m    383\u001b[0m \u001b[39m# ExtensionArray]\"; expected \"Union[_SupportsArray[dtype[Any]],\u001b[39;00m\n\u001b[0;32m    384\u001b[0m \u001b[39m# Sequence[_SupportsArray[dtype[Any]]], Sequence[Sequence\u001b[39;00m\n\u001b[0;32m    385\u001b[0m \u001b[39m# [_SupportsArray[dtype[Any]]]], Sequence[Sequence[Sequence[\u001b[39;00m\n\u001b[0;32m    386\u001b[0m \u001b[39m# _SupportsArray[dtype[Any]]]]], Sequence[Sequence[Sequence[Sequence[\u001b[39;00m\n\u001b[0;32m    387\u001b[0m \u001b[39m# _SupportsArray[dtype[Any]]]]]]]\"  [arg-type]\u001b[39;00m\n\u001b[1;32m--> 388\u001b[0m \u001b[39mself\u001b[39m\u001b[39m.\u001b[39mvalues \u001b[39m=\u001b[39m np\u001b[39m.\u001b[39;49mdelete(\u001b[39mself\u001b[39;49m\u001b[39m.\u001b[39;49mvalues, loc, \u001b[39m0\u001b[39;49m)  \u001b[39m# type: ignore[arg-type]\u001b[39;00m\n\u001b[0;32m    389\u001b[0m \u001b[39mself\u001b[39m\u001b[39m.\u001b[39mmgr_locs \u001b[39m=\u001b[39m \u001b[39mself\u001b[39m\u001b[39m.\u001b[39m_mgr_locs\u001b[39m.\u001b[39mdelete(loc)\n\u001b[0;32m    390\u001b[0m \u001b[39mtry\u001b[39;00m:\n",
      "File \u001b[1;32m<__array_function__ internals>:5\u001b[0m, in \u001b[0;36mdelete\u001b[1;34m(*args, **kwargs)\u001b[0m\n",
      "File \u001b[1;32mc:\\Users\\jhun1\\anaconda3\\envs\\SNURO\\lib\\site-packages\\numpy\\lib\\function_base.py:4555\u001b[0m, in \u001b[0;36mdelete\u001b[1;34m(arr, obj, axis)\u001b[0m\n\u001b[0;32m   4552\u001b[0m         keep[obj,] \u001b[39m=\u001b[39m \u001b[39mFalse\u001b[39;00m\n\u001b[0;32m   4554\u001b[0m     slobj[axis] \u001b[39m=\u001b[39m keep\n\u001b[1;32m-> 4555\u001b[0m     new \u001b[39m=\u001b[39m arr[\u001b[39mtuple\u001b[39;49m(slobj)]\n\u001b[0;32m   4557\u001b[0m \u001b[39mif\u001b[39;00m wrap:\n\u001b[0;32m   4558\u001b[0m     \u001b[39mreturn\u001b[39;00m wrap(new)\n",
      "\u001b[1;31mKeyboardInterrupt\u001b[0m: "
     ]
    }
   ],
   "source": [
    "class Load:\n",
    "    def __init__(self, filePath):\n",
    "        self.rawDf = pd.read_spss(os.path.join(filePath))\n",
    "\n",
    "data = Load(r\"C:\\Users\\jhun1\\Dropbox\\[3]Project\\[혼합효과 랜덤포레스트_2022]\\PISA2018\\STU\\CY07_MSU_STU_QQQ.sav\")"
   ]
  },
  {
   "cell_type": "code",
   "execution_count": null,
   "metadata": {},
   "outputs": [],
   "source": [
    "data"
   ]
  },
  {
   "cell_type": "markdown",
   "metadata": {},
   "source": [
    "## 2. 전처리"
   ]
  },
  {
   "cell_type": "code",
   "execution_count": null,
   "metadata": {},
   "outputs": [],
   "source": [
    "class PreProcessing:\n",
    "    def __init__(self):\n",
    "        pass\n",
    "\n",
    "    # 분석에 사용할 변수선정\n",
    "    def featureSelection(self):\n",
    "        pass\n",
    "\n",
    "    # 학생별 학업탄력성 점수 계산\n",
    "    def dummyCoding(self):\n",
    "        pass\n",
    "\n",
    "    # 결측치 대체방법 \n",
    "    # 1. 00% 이상 결측은 아예 제외(listwise)\n",
    "    # 2-1. rubin multiple imputation\n",
    "    # 2-2. breiman na.roughfix \n",
    "    def naHandler(self):\n",
    "        pass\n",
    "\n",
    "    # 더미코딩\n",
    "    # 2. 비서열 범주변수: oneHot encoding\n",
    "    def dummyCoding(self):\n",
    "        pass\n",
    "\n",
    "    # 기술통계\n",
    "    def descriptive(self):\n",
    "        pass\n",
    "    "
   ]
  },
  {
   "cell_type": "markdown",
   "metadata": {},
   "source": [
    "## 3. 분석\n",
    "### 3.1 Merf\n",
    "#### 3.1.1 training"
   ]
  },
  {
   "cell_type": "code",
   "execution_count": null,
   "metadata": {},
   "outputs": [],
   "source": []
  },
  {
   "cell_type": "markdown",
   "metadata": {},
   "source": [
    "#### 3.1.2 evaluation"
   ]
  },
  {
   "cell_type": "code",
   "execution_count": null,
   "metadata": {},
   "outputs": [],
   "source": []
  },
  {
   "cell_type": "markdown",
   "metadata": {},
   "source": [
    "## 3.2 suplementary anlaysis"
   ]
  },
  {
   "cell_type": "markdown",
   "metadata": {},
   "source": []
  }
 ],
 "metadata": {
  "kernelspec": {
   "display_name": "Python 3.8.13 ('SNURO')",
   "language": "python",
   "name": "python3"
  },
  "language_info": {
   "codemirror_mode": {
    "name": "ipython",
    "version": 3
   },
   "file_extension": ".py",
   "mimetype": "text/x-python",
   "name": "python",
   "nbconvert_exporter": "python",
   "pygments_lexer": "ipython3",
   "version": "3.8.13"
  },
  "orig_nbformat": 4,
  "vscode": {
   "interpreter": {
    "hash": "5702d5a1f35543d6c34eea9cfe7c421721e3098aad62c19242cc5f6d6a95c445"
   }
  }
 },
 "nbformat": 4,
 "nbformat_minor": 2
}
