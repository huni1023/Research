{
 "cells": [
  {
   "cell_type": "code",
   "execution_count": 1,
   "metadata": {},
   "outputs": [
    {
     "name": "stderr",
     "output_type": "stream",
     "text": [
      "/Users/huni/.pyenv/versions/3.8.2/envs/{huni}/lib/python3.8/site-packages/pandas/compat/__init__.py:97: UserWarning: Could not import the lzma module. Your installed Python is incomplete. Attempting to use lzma compression will result in a RuntimeError.\n",
      "  warnings.warn(msg)\n"
     ]
    },
    {
     "data": {
      "text/plain": [
       "(10716, 23)"
      ]
     },
     "execution_count": 1,
     "metadata": {},
     "output_type": "execute_result"
    }
   ],
   "source": [
    "import os \n",
    "import pandas as pd\n",
    "import numpy as np\n",
    "import re, json\n",
    "from tqdm import tqdm\n",
    "\n",
    "df = pd.read_excel(os.path.join('/Users/huni/Dropbox/내 Mac (MacBook-Pro.local)/Downloads', '(DB)221107.xlsx'))\n",
    "df.shape"
   ]
  },
  {
   "cell_type": "code",
   "execution_count": 2,
   "metadata": {},
   "outputs": [
    {
     "data": {
      "text/plain": [
       "Index(['#', 'Unnamed: 0.1', '제목', '서식', '서식2', '서식3', '작가', 'ISBN', 'CuriPick',\n",
       "       '수상/추천', 'CuriLevel', '대상연령', '도서정보', '주제', '시리즈', '북레벨(AR)', '렉사일',\n",
       "       '상품평개수', '도서번호', 'Unnamed: 0', '출판사', '대분류', '소분류'],\n",
       "      dtype='object')"
      ]
     },
     "execution_count": 2,
     "metadata": {},
     "output_type": "execute_result"
    }
   ],
   "source": [
    "df.columns"
   ]
  },
  {
   "cell_type": "code",
   "execution_count": 3,
   "metadata": {},
   "outputs": [
    {
     "data": {
      "text/plain": [
       "Index(['제목', '서식', '작가', 'ISBN', 'CuriPick', '수상/추천', 'CuriLevel', '대상연령',\n",
       "       '도서정보', '주제', '시리즈', '북레벨(AR)', '렉사일', '상품평개수', '도서번호', 'Unnamed: 0',\n",
       "       '출판사', '대분류', '소분류'],\n",
       "      dtype='object')"
      ]
     },
     "execution_count": 3,
     "metadata": {},
     "output_type": "execute_result"
    }
   ],
   "source": [
    "df.drop(['#', 'Unnamed: 0.1', '서식2', '서식3'], axis = 1, inplace=True)\n",
    "\n",
    "df.columns"
   ]
  },
  {
   "cell_type": "code",
   "execution_count": 4,
   "metadata": {},
   "outputs": [
    {
     "data": {
      "text/plain": [
       "Index(['제목', '서식', '작가', 'ISBN', 'CuriPick', '수상/추천', 'CuriLevel', '대상연령',\n",
       "       '도서정보', '주제', '시리즈', '북레벨(AR)', '렉사일', '상품평개수', '도서번호', '출판사', '대분류',\n",
       "       '소분류'],\n",
       "      dtype='object')"
      ]
     },
     "execution_count": 4,
     "metadata": {},
     "output_type": "execute_result"
    }
   ],
   "source": [
    "df.drop(['Unnamed: 0'], axis = 1, inplace=True)\n",
    "\n",
    "df.columns"
   ]
  },
  {
   "cell_type": "code",
   "execution_count": 5,
   "metadata": {},
   "outputs": [
    {
     "data": {
      "text/plain": [
       "(10716, 18)"
      ]
     },
     "execution_count": 5,
     "metadata": {},
     "output_type": "execute_result"
    }
   ],
   "source": [
    "df.shape"
   ]
  },
  {
   "cell_type": "code",
   "execution_count": null,
   "metadata": {},
   "outputs": [],
   "source": []
  },
  {
   "cell_type": "code",
   "execution_count": 6,
   "metadata": {},
   "outputs": [
    {
     "data": {
      "text/plain": [
       "(385, 5)"
      ]
     },
     "execution_count": 6,
     "metadata": {},
     "output_type": "execute_result"
    }
   ],
   "source": [
    "df_curi = pd.read_excel(os.path.join('/Users/huni/Dropbox/내 Mac (MacBook-Pro.local)/Downloads', 'CuriPick List_20221110.xlsx'))\n",
    "df_curi.shape"
   ]
  },
  {
   "cell_type": "code",
   "execution_count": 7,
   "metadata": {},
   "outputs": [
    {
     "data": {
      "text/plain": [
       "Index(['Title', 'Author', 'Synopsis', 'Barcode', ' Collection/Wishlist'], dtype='object')"
      ]
     },
     "execution_count": 7,
     "metadata": {},
     "output_type": "execute_result"
    }
   ],
   "source": [
    "df_curi.columns"
   ]
  },
  {
   "cell_type": "code",
   "execution_count": 8,
   "metadata": {},
   "outputs": [
    {
     "name": "stderr",
     "output_type": "stream",
     "text": [
      ">>> Proceeding: 385it [00:00, 602.08it/s]\n"
     ]
    }
   ],
   "source": [
    "count_matched = 0\n",
    "count_matched_over = 0 \n",
    "\n",
    "for idx, row in tqdm(df_curi.iterrows(), desc = \">>> Proceeding\"):\n",
    "    df_match = df[df['제목']==row['Title']]\n",
    "    if df_match.shape[0] > 0:\n",
    "        count_matched += 1 \n",
    "        if df_match.shape[0] > 1: #!# 아마 저자가 다를 것임\n",
    "            count_matched_over += 1 \n",
    "            print('> compare: ', df_match['작가'].values)"
   ]
  },
  {
   "cell_type": "code",
   "execution_count": 9,
   "metadata": {},
   "outputs": [
    {
     "data": {
      "text/plain": [
       "4"
      ]
     },
     "execution_count": 9,
     "metadata": {},
     "output_type": "execute_result"
    }
   ],
   "source": [
    "count_matched"
   ]
  },
  {
   "cell_type": "code",
   "execution_count": null,
   "metadata": {},
   "outputs": [],
   "source": []
  },
  {
   "cell_type": "code",
   "execution_count": 10,
   "metadata": {},
   "outputs": [
    {
     "data": {
      "text/plain": [
       "array(['1999-06-29 00:00:00', '...and now miguel ',\n",
       "       '[세이펜book] barbie readers 바비 리더스 레벨 1 : 리더스북 12권 + 오디오 cd 1장 + 액티비티북 1권',\n",
       "       '[특가] percy jackson and the olympians #1 : the lightning thief ',\n",
       "       \"[comic rockets] step 2: mr croc's silly sock\",\n",
       "       '[eq의 천재들] little miss리틀미스:my complete collection',\n",
       "       \"[weird planet] #01 : dube, where's my spaceship? \",\n",
       "       '#02 the flying beaver brothers and the fishy business ',\n",
       "       '#02. who was anne frank? ', '#03 : shoo, fly guy! '], dtype=object)"
      ]
     },
     "execution_count": 10,
     "metadata": {},
     "output_type": "execute_result"
    }
   ],
   "source": [
    "import copy\n",
    "df_n = copy.deepcopy(df)\n",
    "\n",
    "df_n['제목'] = df['제목'].apply(lambda x: str(x).lower())\n",
    "df_n['제목'].values[:10]"
   ]
  },
  {
   "cell_type": "markdown",
   "metadata": {},
   "source": [
    "- 맨 뒤에 공백 제거"
   ]
  },
  {
   "cell_type": "code",
   "execution_count": 11,
   "metadata": {},
   "outputs": [
    {
     "data": {
      "text/plain": [
       "array(['#02. who was anne frank?', '#03 : shoo, fly guy!',\n",
       "       '#03 the flying beaver brothers and the mud-slinging moles',\n",
       "       '#04 : there was an old lady who swallowed fly guy',\n",
       "       '#04 the flying beaver brothers: birds vs. bunnies',\n",
       "       '#05 : fly high, fly guy!', '#06 : hooray for fly guy!',\n",
       "       '#06 the flying beaver brother and the crazy critter race',\n",
       "       '#07 : i spy fly guy', '#08 : fly guy meets fly girl',\n",
       "       '#09 : buzz boy and fly guy',\n",
       "       \"#1. escape from mr. lemoncello's library\"], dtype=object)"
      ]
     },
     "execution_count": 11,
     "metadata": {},
     "output_type": "execute_result"
    }
   ],
   "source": [
    "def delSpace(inpText):\n",
    "    if inpText[-1] == ' ':\n",
    "        return inpText[:-1]\n",
    "    else:\n",
    "        return inpText\n",
    "\n",
    "df_n['제목'] = df_n['제목'].apply(lambda x: delSpace(x))\n",
    "df_n['제목'].values[8:20]"
   ]
  },
  {
   "cell_type": "code",
   "execution_count": null,
   "metadata": {},
   "outputs": [],
   "source": []
  },
  {
   "cell_type": "code",
   "execution_count": 12,
   "metadata": {},
   "outputs": [
    {
     "data": {
      "text/plain": [
       "array(['#015: cherry the cake fairy', '#016: melodie the music fairy',\n",
       "       '#021: jasmine the present fairy', '100 facts ancient rome',\n",
       "       'a single shard', 'a tooth story',\n",
       "       'ada byron lovelace and the thinking machine',\n",
       "       'abigail the breeze fairy', 'al capone does my shirts',\n",
       "       'al capone shines my shoes'], dtype=object)"
      ]
     },
     "execution_count": 12,
     "metadata": {},
     "output_type": "execute_result"
    }
   ],
   "source": [
    "df_curi['Title'] = df_curi['Title'].apply(lambda x: str(x).lower())\n",
    "df_curi['Title'].values[:10]"
   ]
  },
  {
   "cell_type": "code",
   "execution_count": 13,
   "metadata": {},
   "outputs": [
    {
     "name": "stderr",
     "output_type": "stream",
     "text": [
      ">>> Proceeding: 282it [00:00, 667.36it/s]"
     ]
    },
    {
     "name": "stdout",
     "output_type": "stream",
     "text": [
      "> compare:  holes ..... ['Louis Sachar' 'Louis Sachar , Vladimir Radunsky , Bagram Ibatoulline']\n",
      "> compare:  number the stars ..... ['Lois Lowry' 'Lois Lowry']\n",
      "> compare:  penguin ..... ['Claire Masurel , True Kelley' 'Joan Holub , Julie Durrell'\n",
      " 'DyAnne DiSalvo-Ryan' 'Gail Herman , Norman Gorbaty'\n",
      " 'DyAnne DiSalvo-Ryan' 'Judith Moffatt' 'Emily Neye' 'Kate Spohn'\n",
      " 'Eric Carle' 'Harriet Ziefert' 'Joan Holub , Lynne Avril Cravath'\n",
      " 'Janet Morgan Stoeke' 'Joan Holub , Hiroe Nakata'\n",
      " 'Nadine Bernard Westcott , Barbara Maitland' 'Joanna Cole , Ron Broda'\n",
      " 'Joan Holub , Rich Davis' 'Jill Abramson , Deborah Melmon' 'Pam Pollack'\n",
      " 'Laura Marchesani , Zenaides A. , Jr. Medina , Peter Jarvis'\n",
      " 'R. A. Herman' 'DyAnne DiSalvo-Ryan' 'Harriet Ziefert'\n",
      " 'Martin Silverman , Amy Aitken' 'Joseph Slate , Ashley wolff'\n",
      " 'Susan Hood , Kristina Stephenson' 'Tracey West , Cindy Revell'\n",
      " 'Rosemary Wells , Andrew Grey' 'Rosemary Wells , Andrew Grey'\n",
      " 'Jonathan Fenske' 'Anna Dewdney' 'Tomie DePaola'\n",
      " 'Simms Taback , Harriet Ziefert' 'Maryann Cocca-Leffler'\n",
      " 'Jennifer Plecas , Shelley Moore Thomas'\n",
      " 'Jayne Harvey , Tamara Petrosino' 'Bernard Adnet , Jayne Harvey'\n",
      " 'Tomie DePaola' 'Susan Hood , Joy Allen' 'Laura Driscoll , Tammy Smith'\n",
      " 'Jonathan Fenske' 'Jonathan Fenske']\n"
     ]
    },
    {
     "name": "stderr",
     "output_type": "stream",
     "text": [
      ">>> Proceeding: 385it [00:00, 649.41it/s]"
     ]
    },
    {
     "name": "stdout",
     "output_type": "stream",
     "text": [
      "> compare:  the giver ..... ['Lois Lowry' 'Lois Lowry']\n",
      "> compare:  the miraculous journey of edward tulane ..... ['Kate Dicamillo' 'Kate Dicamillo , Bagram Ibatoulline']\n",
      "> compare:  when i grow up ..... ['Mercer Mayer' 'Al Yankovic']\n"
     ]
    },
    {
     "name": "stderr",
     "output_type": "stream",
     "text": [
      "\n"
     ]
    }
   ],
   "source": [
    "count_matched = 0\n",
    "count_matched_over = 0\n",
    "\n",
    "for idx, row in tqdm(df_curi.iterrows(), desc = \">>> Proceeding\"):\n",
    "    df_match = df_n[df_n['제목']==row['Title']]\n",
    "    if df_match.shape[0] > 0:\n",
    "        count_matched += 1\n",
    "\n",
    "        if df_match.shape[0] > 1: #!# 아마 저자가 다를 것임\n",
    "            count_matched_over += 1 \n",
    "            print('> compare: ', df_match['제목'].values[0], '.....', df_match['작가'].values)"
   ]
  },
  {
   "cell_type": "code",
   "execution_count": 14,
   "metadata": {},
   "outputs": [
    {
     "data": {
      "text/plain": [
       "84"
      ]
     },
     "execution_count": 14,
     "metadata": {},
     "output_type": "execute_result"
    }
   ],
   "source": [
    "count_matched"
   ]
  },
  {
   "cell_type": "code",
   "execution_count": null,
   "metadata": {},
   "outputs": [],
   "source": []
  },
  {
   "cell_type": "code",
   "execution_count": 15,
   "metadata": {},
   "outputs": [
    {
     "name": "stderr",
     "output_type": "stream",
     "text": [
      ">>> Proceeding: 385it [00:00, 726.54it/s]\n"
     ]
    },
    {
     "data": {
      "text/plain": [
       "(129, 18)"
      ]
     },
     "execution_count": 15,
     "metadata": {},
     "output_type": "execute_result"
    }
   ],
   "source": [
    "for idx, row in tqdm(df_curi.iterrows(), desc = \">>> Proceeding\"):\n",
    "    df_match = df_n[df_n['제목']==row['Title']]\n",
    "    for idx in df_match.index:\n",
    "        df_n.loc[idx, 'CuriPick'] = 1\n",
    "\n",
    "\n",
    "df_n[df_n['CuriPick'] == 1].shape"
   ]
  },
  {
   "cell_type": "code",
   "execution_count": 16,
   "metadata": {},
   "outputs": [
    {
     "data": {
      "text/plain": [
       "array([nan, nan, nan, ..., nan, nan, nan])"
      ]
     },
     "execution_count": 16,
     "metadata": {},
     "output_type": "execute_result"
    }
   ],
   "source": [
    "df_n['CuriPick'].values"
   ]
  },
  {
   "cell_type": "code",
   "execution_count": 17,
   "metadata": {},
   "outputs": [
    {
     "data": {
      "text/plain": [
       "(10587, 18)"
      ]
     },
     "execution_count": 17,
     "metadata": {},
     "output_type": "execute_result"
    }
   ],
   "source": [
    "df_n['CuriPick'] = df_n['CuriPick'].fillna(0)\n",
    "df_n[df_n['CuriPick']== 0].shape"
   ]
  },
  {
   "cell_type": "code",
   "execution_count": 18,
   "metadata": {},
   "outputs": [],
   "source": [
    "df['CuriPick'] = df_n['CuriPick']"
   ]
  },
  {
   "cell_type": "code",
   "execution_count": 22,
   "metadata": {},
   "outputs": [
    {
     "data": {
      "text/plain": [
       "(128, 18)"
      ]
     },
     "execution_count": 22,
     "metadata": {},
     "output_type": "execute_result"
    }
   ],
   "source": [
    "df[df['CuriPick'] == 1].shape"
   ]
  },
  {
   "cell_type": "code",
   "execution_count": null,
   "metadata": {},
   "outputs": [],
   "source": []
  },
  {
   "cell_type": "code",
   "execution_count": 20,
   "metadata": {},
   "outputs": [
    {
     "name": "stdout",
     "output_type": "stream",
     "text": [
      ">>>  Int64Index([8714, 8715], dtype='int64')\n",
      ">>>  ['Lois Lowry' 'Lois Lowry']\n",
      ">  [nan '책 + MP3 오디오시디) 기억 전달자']\n",
      ">  [nan '책 + MP3 오디오시디) 기억 전달자']\n"
     ]
    }
   ],
   "source": [
    "should_be_delete = {\n",
    "    'the giver': 'Lois Lowry'\n",
    "}\n",
    "\n",
    "to_Drop = []\n",
    "for key, val in should_be_delete.items():\n",
    "    df_slice = df_n[df_n['제목'] == key]\n",
    "    print('>>> ', df_slice.index)\n",
    "    print('>>> ', df_slice['작가'].values)\n",
    "    for author in df_slice['작가'].values:\n",
    "\n",
    "        if  author == val:\n",
    "            print('> ', df_slice['서식'].values)\n",
    "            # print('> ', df_slice.index)\n",
    "            # to_Drop.append()"
   ]
  },
  {
   "cell_type": "code",
   "execution_count": null,
   "metadata": {},
   "outputs": [],
   "source": []
  },
  {
   "cell_type": "code",
   "execution_count": 21,
   "metadata": {},
   "outputs": [
    {
     "name": "stdout",
     "output_type": "stream",
     "text": [
      "(10716, 18)\n",
      "(10715, 18)\n"
     ]
    }
   ],
   "source": [
    "# 지울 때는 df를 지워야함, lower case 안 먹혀있어서, 이게 제대로된 것\n",
    "print(df.shape)\n",
    "df.drop([8714], axis=0, inplace=True)\n",
    "print(df.shape)"
   ]
  },
  {
   "cell_type": "code",
   "execution_count": null,
   "metadata": {},
   "outputs": [],
   "source": []
  },
  {
   "cell_type": "code",
   "execution_count": null,
   "metadata": {},
   "outputs": [],
   "source": [
    "df.to_excel('(DB)221110.xlsx')"
   ]
  }
 ],
 "metadata": {
  "kernelspec": {
   "display_name": "Python 3.8.2 64-bit ('{huni}')",
   "language": "python",
   "name": "python3"
  },
  "language_info": {
   "codemirror_mode": {
    "name": "ipython",
    "version": 3
   },
   "file_extension": ".py",
   "mimetype": "text/x-python",
   "name": "python",
   "nbconvert_exporter": "python",
   "pygments_lexer": "ipython3",
   "version": "3.8.2"
  },
  "orig_nbformat": 4,
  "vscode": {
   "interpreter": {
    "hash": "6759f8f029089d11794c1cc9cf7a24be0c22d8786d9aebb0d861f27dfe2c888b"
   }
  }
 },
 "nbformat": 4,
 "nbformat_minor": 2
}
